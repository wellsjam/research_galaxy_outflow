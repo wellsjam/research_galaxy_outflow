{
 "cells": [
  {
   "cell_type": "code",
   "execution_count": 13,
   "id": "c51b484f-0b77-4b0d-821e-3d957e91e215",
   "metadata": {},
   "outputs": [
    {
     "name": "stdout",
     "output_type": "stream",
     "text": [
      "Requirement already satisfied: numpy in /opt/homebrew/Cellar/jupyterlab/4.2.1/libexec/lib/python3.12/site-packages (1.26.4)\n",
      "Requirement already satisfied: pandas in /opt/homebrew/Cellar/jupyterlab/4.2.1/libexec/lib/python3.12/site-packages (2.2.2)\n",
      "Requirement already satisfied: matplotlib in /opt/homebrew/Cellar/jupyterlab/4.2.1/libexec/lib/python3.12/site-packages (3.9.0)\n",
      "Requirement already satisfied: regions in /opt/homebrew/Cellar/jupyterlab/4.2.1/libexec/lib/python3.12/site-packages (0.9)\n",
      "Requirement already satisfied: python-dateutil>=2.8.2 in /opt/homebrew/Cellar/jupyterlab/4.2.1/libexec/lib/python3.12/site-packages (from pandas) (2.9.0.post0)\n",
      "Requirement already satisfied: pytz>=2020.1 in /opt/homebrew/Cellar/jupyterlab/4.2.1/libexec/lib/python3.12/site-packages (from pandas) (2024.1)\n",
      "Requirement already satisfied: tzdata>=2022.7 in /opt/homebrew/Cellar/jupyterlab/4.2.1/libexec/lib/python3.12/site-packages (from pandas) (2024.1)\n",
      "Requirement already satisfied: contourpy>=1.0.1 in /opt/homebrew/Cellar/jupyterlab/4.2.1/libexec/lib/python3.12/site-packages (from matplotlib) (1.2.1)\n",
      "Requirement already satisfied: cycler>=0.10 in /opt/homebrew/Cellar/jupyterlab/4.2.1/libexec/lib/python3.12/site-packages (from matplotlib) (0.12.1)\n",
      "Requirement already satisfied: fonttools>=4.22.0 in /opt/homebrew/Cellar/jupyterlab/4.2.1/libexec/lib/python3.12/site-packages (from matplotlib) (4.52.4)\n",
      "Requirement already satisfied: kiwisolver>=1.3.1 in /opt/homebrew/Cellar/jupyterlab/4.2.1/libexec/lib/python3.12/site-packages (from matplotlib) (1.4.5)\n",
      "Requirement already satisfied: packaging>=20.0 in /opt/homebrew/Cellar/jupyterlab/4.2.1/libexec/lib/python3.12/site-packages (from matplotlib) (24.0)\n",
      "Requirement already satisfied: pillow>=8 in /opt/homebrew/Cellar/jupyterlab/4.2.1/libexec/lib/python3.12/site-packages (from matplotlib) (10.3.0)\n",
      "Requirement already satisfied: pyparsing>=2.3.1 in /opt/homebrew/Cellar/jupyterlab/4.2.1/libexec/lib/python3.12/site-packages (from matplotlib) (3.1.2)\n",
      "Requirement already satisfied: astropy>=5.1 in /opt/homebrew/Cellar/jupyterlab/4.2.1/libexec/lib/python3.12/site-packages (from regions) (6.1.0)\n",
      "Requirement already satisfied: pyerfa>=2.0.1.1 in /opt/homebrew/Cellar/jupyterlab/4.2.1/libexec/lib/python3.12/site-packages (from astropy>=5.1->regions) (2.0.1.4)\n",
      "Requirement already satisfied: astropy-iers-data>=0.2024.4.29.0.28.48 in /opt/homebrew/Cellar/jupyterlab/4.2.1/libexec/lib/python3.12/site-packages (from astropy>=5.1->regions) (0.2024.5.27.0.30.8)\n",
      "Requirement already satisfied: PyYAML>=3.13 in /opt/homebrew/Cellar/jupyterlab/4.2.1/libexec/lib/python3.12/site-packages (from astropy>=5.1->regions) (6.0.1)\n",
      "Requirement already satisfied: six>=1.5 in /opt/homebrew/Cellar/jupyterlab/4.2.1/libexec/lib/python3.12/site-packages (from python-dateutil>=2.8.2->pandas) (1.16.0)\n",
      "Note: you may need to restart the kernel to use updated packages.\n"
     ]
    }
   ],
   "source": [
    "%pip install numpy pandas matplotlib regions"
   ]
  },
  {
   "cell_type": "code",
   "execution_count": 14,
   "id": "0f8e4d86",
   "metadata": {},
   "outputs": [],
   "source": [
    "import numpy as np\n",
    "import pandas as pd\n",
    "import matplotlib.pyplot as plt"
   ]
  },
  {
   "cell_type": "code",
   "execution_count": 15,
   "id": "7a6962e5",
   "metadata": {},
   "outputs": [
    {
     "name": "stdout",
     "output_type": "stream",
     "text": [
      "[ 23846.63811067 267796.82848121  17513.2810548    6948.69934584\n",
      "  26571.77736174   7353.04323709  18550.80245403   7016.11208357\n",
      "   6861.71729885   6723.26707533  10174.0217486    7896.47865073\n",
      "   6104.18583435   5053.34895036  16680.26174203   7838.16302211\n",
      "   4675.30924415   8019.72367162   3516.02898014   3446.5304211\n",
      "   2924.39378101]\n"
     ]
    }
   ],
   "source": [
    "#data = pd.read_csv('./results/ngc3741/data_csv.csv')\n",
    "data = np.loadtxt('./interiorh2reg.txt')\n",
    "data2 = np.loadtxt('./diffuse_sums.txt')\n",
    "datatotal = np.append(data,data2)\n",
    "print(datatotal)\n",
    "instmag = -2.5*np.log10(datatotal/720)"
   ]
  },
  {
   "cell_type": "code",
   "execution_count": 16,
   "id": "4e7a31d3",
   "metadata": {},
   "outputs": [
    {
     "name": "stdout",
     "output_type": "stream",
     "text": [
      "[1.70732760e-14 1.91732233e-13 1.25388359e-14 4.97500157e-15\n",
      " 1.90243710e-14 5.26449625e-15 1.32816613e-14 5.02326650e-15\n",
      " 4.91272577e-15 4.81360073e-15 7.28420840e-15 5.65357511e-15\n",
      " 4.37036236e-15 3.61800356e-15 1.19424261e-14 5.61182336e-15\n",
      " 3.34734166e-15 5.74181381e-15 2.51734157e-15 2.46758327e-15\n",
      " 2.09375351e-15]\n",
      "36.41193732467372 38.37370690236265\n"
     ]
    },
    {
     "data": {
      "image/png": "[encoded data removed]",
      "text/plain": [
       "<Figure size 640x480 with 1 Axes>"
      ]
     },
     "metadata": {},
     "output_type": "display_data"
    }
   ],
   "source": [
    "#zp correction; first correct for filter function (assumes a gaussian filter)\n",
    "filt_fwhm = 80\n",
    "a0 = 21.565\n",
    "filter_func=0.5*np.sqrt(np.pi/np.log(2.)) * filt_fwhm\n",
    "zp=a0 - 2.5*np.log10(filter_func)\n",
    "aemag = instmag+ zp\n",
    "\n",
    "#  convert from magnitudes to fluxes\n",
    "fluxlog =-(aemag +21.48)/2.5\n",
    "flux=10**(fluxlog)\n",
    "print(flux)\n",
    "plt.hist(flux,bins=60)\n",
    "histflux = np.histogram(flux,bins=20)\n",
    "\n",
    "##Convert to luminosity \n",
    "## F = L/4piD^2\n",
    "L = flux*(4*np.pi)*(3.21E6*3.086E18)**2\n",
    "logL = np.log10(L)\n",
    "print(min(logL),max(logL))"
   ]
  },
  {
   "cell_type": "code",
   "execution_count": 17,
   "id": "9a01c9d2",
   "metadata": {},
   "outputs": [
    {
     "name": "stdout",
     "output_type": "stream",
     "text": [
      "(array([0, 0, 3, 7, 5, 2, 3, 0, 0, 0, 0, 1, 0]), array([36. , 36.2, 36.4, 36.6, 36.8, 37. , 37.2, 37.4, 37.6, 37.8, 38. ,\n",
      "       38.2, 38.4, 38.6]))\n",
      "13 14\n",
      "13\n",
      "[36.1, 36.300000000000004, 36.50000000000001, 36.70000000000001, 36.90000000000001, 37.100000000000016, 37.30000000000002, 37.50000000000002, 37.700000000000024, 37.90000000000003, 38.10000000000003, 38.30000000000003, 38.500000000000036]\n"
     ]
    }
   ],
   "source": [
    "bins = np.arange(36,38.6,0.2)\n",
    "lum_his = np.histogram(logL,bins=bins)\n",
    "print(lum_his)\n",
    "print(len(lum_his[0]),len(lum_his[1]))\n",
    "bincenters = []\n",
    "for i in range(len(bins)):\n",
    "    if i>0:\n",
    "        bincenters.append((bins[i]+bins[i-1])/2)\n",
    "print(len(bincenters))\n",
    "print(bincenters)"
   ]
  },
  {
   "cell_type": "code",
   "execution_count": 18,
   "id": "2156578d",
   "metadata": {},
   "outputs": [
    {
     "name": "stdout",
     "output_type": "stream",
     "text": [
      "[    0.             0.         20419.48046335 30062.24939391\n",
      " 13548.56931906  3419.42772762  3236.269558       0.\n",
      "     0.             0.             0.           107.87565193\n",
      "     0.        ]\n",
      "[      -inf       -inf 4.31004469 4.47802147 4.13189344 3.53395343\n",
      " 3.51004469       -inf       -inf       -inf       -inf 2.03292343\n",
      "       -inf]\n"
     ]
    },
    {
     "name": "stderr",
     "output_type": "stream",
     "text": [
      "/var/folders/p8/2qpn3ldx4s58gvbc0c41f6g80000gn/T/ipykernel_9344/1622514615.py:8: RuntimeWarning: divide by zero encountered in log10\n",
      "  log_lumfunc = np.log10(lum_func)\n"
     ]
    }
   ],
   "source": [
    "lum_weight = []\n",
    "for i in range(len(bins)):\n",
    "    if i>0:\n",
    "        lum_weight.append(10**(bins[i]-40)-10**(bins[i-1]-40))\n",
    "lum_weight=np.array(lum_weight)\n",
    "lum_func = lum_his[0]/lum_weight\n",
    "print(lum_func)\n",
    "log_lumfunc = np.log10(lum_func)\n",
    "print(log_lumfunc)"
   ]
  },
  {
   "cell_type": "code",
   "execution_count": 19,
   "id": "5ed88e32",
   "metadata": {},
   "outputs": [
    {
     "data": {
      "text/plain": [
       "Text(0, 0.5, 'log(N/dL)')"
      ]
     },
     "execution_count": 19,
     "metadata": {},
     "output_type": "execute_result"
    },
    {
     "data": {
      "image/png": "[encoded data removed]",
      "text/plain": [
       "<Figure size 640x480 with 1 Axes>"
      ]
     },
     "metadata": {},
     "output_type": "display_data"
    }
   ],
   "source": [
    "plt.scatter(bincenters,log_lumfunc)\n",
    "#plt.ylim(0,6.5)\n",
    "plt.xlabel('log L')\n",
    "plt.ylabel('log(N/dL)')"
   ]
  },
  {
   "cell_type": "code",
   "execution_count": 21,
   "id": "58b92bb0",
   "metadata": {},
   "outputs": [
    {
     "name": "stdout",
     "output_type": "stream",
     "text": [
      "[36.1, 36.300000000000004, 36.50000000000001, 36.70000000000001, 36.90000000000001, 37.100000000000016, 37.30000000000002, 37.50000000000002, 37.700000000000024, 37.90000000000003, 38.10000000000003, 38.30000000000003, 38.500000000000036]\n",
      "[      -inf       -inf 4.31004469 4.47802147 4.13189344 3.53395343\n",
      " 3.51004469       -inf       -inf       -inf       -inf 2.03292343\n",
      "       -inf]\n",
      "2.0329234333362094\n",
      "[4.31004469 4.47802147 4.13189344 3.53395343 3.51004469 2.03292343]\n",
      "(array([-1.37475069, 54.71522249]), array([[ 1.93093678e-02, -7.17021191e-01],\n",
      "       [-7.17021191e-01,  2.66319306e+01]]))\n"
     ]
    }
   ],
   "source": [
    "print(bincenters)\n",
    "print(log_lumfunc)\n",
    "\n",
    "bincen1 = bincenters[2:7]\n",
    "bincen2 = bincenters[11]\n",
    "llf1 = log_lumfunc[2:7]\n",
    "llf2 = log_lumfunc[11]\n",
    "print(llf2)\n",
    "\n",
    "bincenfit = np.append(bincen1,bincen2)\n",
    "llfit = np.append(llf1,llf2)\n",
    "print(llfit)\n",
    "\n",
    "fit = np.polyfit(bincenfit,llfit,1,cov=True)\n",
    "print(fit)"
   ]
  },
  {
   "cell_type": "code",
   "execution_count": null,
   "id": "43e36c3a-12dc-480c-a2df-900ad98fe474",
   "metadata": {},
   "outputs": [],
   "source": [
    "intL = []\n",
    "for i in range(len(bincenters):\n",
    "    "
   ]
  },
  {
   "cell_type": "code",
   "execution_count": 11,
   "id": "e5fd1dbd-bdee-400a-91f4-b66eed560013",
   "metadata": {},
   "outputs": [
    {
     "name": "stdout",
     "output_type": "stream",
     "text": [
      "9 9\n"
     ]
    },
    {
     "data": {
      "image/png": "[encoded data removed]",
      "text/plain": [
       "<Figure size 700x500 with 1 Axes>"
      ]
     },
     "metadata": {},
     "output_type": "display_data"
    }
   ],
   "source": [
    "intL = [24,23,22,15,10,5,4,3,1]\n",
    "bincen3 =  bincenters[0:7]\n",
    "bincen4 = bincenters[8:10]\n",
    "bincenint = np.append(bincen3,bincen4)\n",
    "print(len(bincenint),len(intL))\n",
    "\n",
    "fig=plt.figure(figsize=(7,5))\n",
    "plt.scatter(bincenint,intL,color='k')\n",
    "plt.plot(bincenint,intL,color='k')\n",
    "plt.xlabel(r'Log L (H$\\alpha$) erg s$^{-1}$')\n",
    "plt.ylim(0,25)\n",
    "plt.ylabel(r'Number $\\geq$ L')\n",
    "plt.vlines(bincenint[2],0,25,linestyle='--',color='r')\n",
    "fig.savefig('NGC3741 Luminosity Function',dpi=300)"
   ]
  },
  {
   "cell_type": "code",
   "execution_count": null,
   "id": "08af617b-e0d2-4dca-9e8d-8f3505aa8b10",
   "metadata": {},
   "outputs": [],
   "source": []
  }
 ],
 "metadata": {
  "kernelspec": {
   "display_name": "Python 3",
   "language": "python",
   "name": "python3"
  },
  "language_info": {
   "codemirror_mode": {
    "name": "ipython",
    "version": 3
   },
   "file_extension": ".py",
   "mimetype": "text/x-python",
   "name": "python",
   "nbconvert_exporter": "python",
   "pygments_lexer": "ipython3",
   "version": "3.12.0"
  }
 },
 "nbformat": 4,
 "nbformat_minor": 5
}
