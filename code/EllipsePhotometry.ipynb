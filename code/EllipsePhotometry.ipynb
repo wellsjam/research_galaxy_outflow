{
 "cells": [
  {
   "cell_type": "code",
   "execution_count": null,
   "id": "4e3ebba1-ed37-4064-a615-a54f7468b59b",
   "metadata": {},
   "outputs": [],
   "source": [
    "%pip install photutils"
   ]
  },
  {
   "cell_type": "code",
   "execution_count": null,
   "id": "8a36aad2-47e7-49e5-a23c-6f2903d2c5bc",
   "metadata": {},
   "outputs": [],
   "source": [
    "import numpy as np\n",
    "from astropy.io import fits\n",
    "from astropy.wcs import WCS\n",
    "import pandas as pd\n",
    "import sys\n",
    "import os\n",
    "import matplotlib.pyplot as plt\n",
    "from astropy import coordinates as coords\n",
    "from astropy import units as u\n",
    "from numpy.lib.recfunctions import append_fields\n",
    "from photutils.aperture import aperture_photometry\n",
    "from photutils.aperture import CircularAperture\n",
    "from photutils.aperture import SkyCircularAperture\n",
    "from photutils.aperture import SkyEllipticalAperture\n",
    "from regions import Regions,PixCoord\n",
    "from astropy.coordinates import SkyCoord"
   ]
  },
  {
   "cell_type": "code",
   "execution_count": null,
   "id": "3eda5788-37ab-493a-ae5d-251275c641d7",
   "metadata": {},
   "outputs": [],
   "source": [
    "Ha_image = '/Users/jameswells/Documents/astro/datasets/ngc3741data/ngc3741Deepae_crop.fits'\n",
    "hdu = fits.open(Ha_image)[0]\n",
    "wcs = WCS(hdu.header)\n",
    "\n",
    "regions = Regions.read('/Users/jameswells/Documents/astro/datasets/ngc3741data/regions/diffuse_h2_new.reg', format='ds9')\n",
    "print(len(regions))\n",
    "print(regions[0])\n",
    "print(regions[0].center.ra.value)\n",
    "print(regions[0].width)"
   ]
  },
  {
   "cell_type": "code",
   "execution_count": null,
   "id": "69b55502-ae35-41b1-ad6a-493ac711af0b",
   "metadata": {},
   "outputs": [],
   "source": [
    "fig=plt.figure(figsize=(8,8))\n",
    "ax1 = plt.subplot(projection=wcs)\n",
    "ax1.set_facecolor('white')\n",
    "ax1.set_xlabel('RA (2000)')\n",
    "ax1.set_ylabel('Dec (2000)')\n",
    "ra_ax1 = ax1.coords['ra']\n",
    "dec_ax1 = ax1.coords['dec']\n",
    "cmapa = plt.get_cmap('binary')\n",
    "alpimg = ax1.imshow(hdu.data,origin='lower',cmap=plt.get_cmap('binary'),vmin =-10,vmax=15,\n",
    "                  transform=ax1.get_transform(wcs))\n",
    "\n",
    "photomet = []\n",
    "for i in range(len(regions)):\n",
    "    pos = SkyCoord(ra=regions[i].center.ra.value, dec=regions[i].center.dec.value, unit='deg')\n",
    "    aper = SkyEllipticalAperture(pos, a = regions[i].width.value/2*u.arcsec, b= regions[i].height.value/2*u.arcsec,theta=(90+regions[i].angle.value)*u.deg)\n",
    "    pix = aper.to_pixel(wcs=wcs)\n",
    "    pix.plot(ax=ax1,fill=False,color='red')\n",
    "    photomet.append(pix.do_photometry(hdu.data))\n",
    "\n",
    "print(photomet)"
   ]
  },
  {
   "cell_type": "code",
   "execution_count": null,
   "id": "ce897c7e-13ee-4e06-bfb5-5b8c37ba46b2",
   "metadata": {},
   "outputs": [],
   "source": [
    "reg_sums = []\n",
    "for i in range(len(photomet)):\n",
    "    reg_sums.append(photomet[i][0][0])\n",
    "print(reg_sums)\n",
    "np.savetxt('diffuse_sums.txt',reg_sums, fmt='%s')"
   ]
  },
  {
   "cell_type": "code",
   "execution_count": null,
   "id": "4b3e696a-b8b2-4529-b73d-77f9cb0aa0fa",
   "metadata": {},
   "outputs": [],
   "source": [
    "print(photomet[0][0][0])"
   ]
  },
  {
   "cell_type": "code",
   "execution_count": null,
   "id": "cb9901f1-51c7-4865-83ba-38bd0b83b5b8",
   "metadata": {},
   "outputs": [],
   "source": []
  }
 ],
 "metadata": {
  "kernelspec": {
   "display_name": "Python 3",
   "language": "python",
   "name": "python3"
  },
  "language_info": {
   "codemirror_mode": {
    "name": "ipython",
    "version": 3
   },
   "file_extension": ".py",
   "mimetype": "text/x-python",
   "name": "python",
   "nbconvert_exporter": "python",
   "pygments_lexer": "ipython3",
   "version": "3.12.0"
  }
 },
 "nbformat": 4,
 "nbformat_minor": 5
}
