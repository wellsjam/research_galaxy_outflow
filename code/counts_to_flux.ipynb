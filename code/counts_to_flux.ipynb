{
 "cells": [
  {
   "cell_type": "code",
   "execution_count": 1,
   "metadata": {},
   "outputs": [],
   "source": [
    "import numpy as np\n",
    "import matplotlib.pyplot as plt\n",
    "import pandas as pd"
   ]
  },
  {
   "cell_type": "code",
   "execution_count": 4,
   "metadata": {},
   "outputs": [
    {
     "name": "stdout",
     "output_type": "stream",
     "text": [
      "[ 5.39590623  3.89075625 -6.76154496 -5.47025279 -7.05009439]\n"
     ]
    }
   ],
   "source": [
    "dataset = np.array([5,20,364712.36,111028.28,475740.64])\n",
    "instmag = -2.5*np.log10(dataset/720)\n",
    "print(instmag)"
   ]
  },
  {
   "cell_type": "code",
   "execution_count": 5,
   "metadata": {},
   "outputs": [
    {
     "name": "stdout",
     "output_type": "stream",
     "text": [
      "[3.57980776e-18 1.43192310e-17 2.61120027e-13 7.94919797e-14\n",
      " 3.40612007e-13]\n"
     ]
    }
   ],
   "source": [
    "# zp correction; first correct for filter function (assumes a gaussian filter)\n",
    "filt_fwhm = 80\n",
    "a0 = 21.565\n",
    "filter_func=0.5*np.sqrt(np.pi/np.log(2.)) * filt_fwhm\n",
    "zp=a0 - 2.5*np.log10(filter_func)\n",
    "aemag = instmag+ zp\n",
    "\n",
    "#  convert from magnitudes to fluxes\n",
    "fluxlog =-(aemag +21.48)/2.5\n",
    "flux=10**(fluxlog)\n",
    "print(flux)\n",
    "\n",
    "##Convert to luminosity \n",
    "## F = L/4piD^2\n",
    "L = flux*(4*np.pi)*(3.21E6*3.086E18)**2"
   ]
  },
  {
   "cell_type": "code",
   "execution_count": null,
   "metadata": {},
   "outputs": [],
   "source": []
  }
 ],
 "metadata": {
  "kernelspec": {
   "display_name": "Python 3",
   "language": "python",
   "name": "python3"
  },
  "language_info": {
   "codemirror_mode": {
    "name": "ipython",
    "version": 3
   },
   "file_extension": ".py",
   "mimetype": "text/x-python",
   "name": "python",
   "nbconvert_exporter": "python",
   "pygments_lexer": "ipython3",
   "version": "3.12.0"
  }
 },
 "nbformat": 4,
 "nbformat_minor": 2
}
