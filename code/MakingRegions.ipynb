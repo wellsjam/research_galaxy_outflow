{
 "cells": [
  {
   "cell_type": "code",
   "execution_count": 33,
   "metadata": {},
   "outputs": [
    {
     "name": "stdout",
     "output_type": "stream",
     "text": [
      "Requirement already satisfied: matplotlib in /opt/homebrew/Cellar/jupyterlab/4.0.10/libexec/lib/python3.12/site-packages (3.8.2)\n",
      "Requirement already satisfied: pandas in /opt/homebrew/Cellar/jupyterlab/4.0.10/libexec/lib/python3.12/site-packages (2.2.0)\n",
      "Requirement already satisfied: astropy in /opt/homebrew/Cellar/jupyterlab/4.0.10/libexec/lib/python3.12/site-packages (6.0.0)\n",
      "Requirement already satisfied: regions in /opt/homebrew/Cellar/jupyterlab/4.0.10/libexec/lib/python3.12/site-packages (0.8)\n",
      "Requirement already satisfied: contourpy>=1.0.1 in /opt/homebrew/Cellar/jupyterlab/4.0.10/libexec/lib/python3.12/site-packages (from matplotlib) (1.2.0)\n",
      "Requirement already satisfied: cycler>=0.10 in /opt/homebrew/Cellar/jupyterlab/4.0.10/libexec/lib/python3.12/site-packages (from matplotlib) (0.12.1)\n",
      "Requirement already satisfied: fonttools>=4.22.0 in /opt/homebrew/Cellar/jupyterlab/4.0.10/libexec/lib/python3.12/site-packages (from matplotlib) (4.47.2)\n",
      "Requirement already satisfied: kiwisolver>=1.3.1 in /opt/homebrew/Cellar/jupyterlab/4.0.10/libexec/lib/python3.12/site-packages (from matplotlib) (1.4.5)\n",
      "Requirement already satisfied: numpy<2,>=1.21 in /opt/homebrew/Cellar/jupyterlab/4.0.10/libexec/lib/python3.12/site-packages (from matplotlib) (1.26.3)\n",
      "Requirement already satisfied: packaging>=20.0 in /opt/homebrew/opt/python-packaging/lib/python3.12/site-packages (from matplotlib) (23.2)\n",
      "Requirement already satisfied: pillow>=8 in /opt/homebrew/Cellar/jupyterlab/4.0.10/libexec/lib/python3.12/site-packages (from matplotlib) (10.2.0)\n",
      "Requirement already satisfied: pyparsing>=2.3.1 in /opt/homebrew/Cellar/jupyterlab/4.0.10/libexec/lib/python3.12/site-packages (from matplotlib) (3.1.1)\n",
      "Requirement already satisfied: python-dateutil>=2.7 in /opt/homebrew/opt/python-dateutil/lib/python3.12/site-packages (from matplotlib) (2.8.2)\n",
      "Requirement already satisfied: pytz>=2020.1 in /opt/homebrew/Cellar/jupyterlab/4.0.10/libexec/lib/python3.12/site-packages (from pandas) (2023.4)\n",
      "Requirement already satisfied: tzdata>=2022.7 in /opt/homebrew/Cellar/jupyterlab/4.0.10/libexec/lib/python3.12/site-packages (from pandas) (2023.4)\n",
      "Requirement already satisfied: pyerfa>=2.0 in /opt/homebrew/Cellar/jupyterlab/4.0.10/libexec/lib/python3.12/site-packages (from astropy) (2.0.1.1)\n",
      "Requirement already satisfied: astropy-iers-data>=0.2023.10.30.0.29.53 in /opt/homebrew/Cellar/jupyterlab/4.0.10/libexec/lib/python3.12/site-packages (from astropy) (0.2024.1.29.0.30.37)\n",
      "Requirement already satisfied: PyYAML>=3.13 in /opt/homebrew/opt/pyyaml/lib/python3.12/site-packages (from astropy) (6.0.1)\n",
      "Requirement already satisfied: six>=1.5 in /opt/homebrew/opt/six/lib/python3.12/site-packages (from python-dateutil>=2.7->matplotlib) (1.16.0)\n",
      "\n",
      "\u001b[1m[\u001b[0m\u001b[34;49mnotice\u001b[0m\u001b[1;39;49m]\u001b[0m\u001b[39;49m A new release of pip is available: \u001b[0m\u001b[31;49m23.3.1\u001b[0m\u001b[39;49m -> \u001b[0m\u001b[32;49m23.3.2\u001b[0m\n",
      "\u001b[1m[\u001b[0m\u001b[34;49mnotice\u001b[0m\u001b[1;39;49m]\u001b[0m\u001b[39;49m To update, run: \u001b[0m\u001b[32;49m/opt/homebrew/Cellar/jupyterlab/4.0.10/libexec/bin/python -m pip install --upgrade pip\u001b[0m\n",
      "Note: you may need to restart the kernel to use updated packages.\n"
     ]
    }
   ],
   "source": [
    "%pip install matplotlib pandas astropy regions"
   ]
  },
  {
   "cell_type": "code",
   "execution_count": 34,
   "metadata": {},
   "outputs": [],
   "source": [
    "import numpy as np"
   ]
  },
  {
   "cell_type": "markdown",
   "metadata": {},
   "source": [
    "### Load in information from the S Extractor file\n",
    "\n",
    "You will need to find which columns in your text document correspond to RA, Dec, the semimajor and semiminor axes of the ellipses, and the position angle. Remember Python is 0 indexing, so your column numbers will start at 0. "
   ]
  },
  {
   "cell_type": "code",
   "execution_count": 44,
   "metadata": {},
   "outputs": [],
   "source": [
    "data = np.genfromtxt('datasets/sextansadata/test.cat', usecols=(5,6,7,8,9,10,12),dtype=float, names=('kron','ra','dec','a','b','PA','e'))"
   ]
  },
  {
   "cell_type": "markdown",
   "metadata": {},
   "source": [
    "### Putting the information into a text file\n",
    "\n",
    "DS9 expects the order for an ellipse region entry to be ra, dec, semiminor axis, semimajor axis, position angle. The semiminor and semimajor axes should be in units of arcseconds. Depending on what is in the S Extractor file, you may need to convert to the proper units. You can add a line that does the math to the code to do the conversion! "
   ]
  },
  {
   "cell_type": "code",
   "execution_count": 45,
   "metadata": {},
   "outputs": [],
   "source": [
    "a = data['a']*data['kron']*0.5\n",
    "b = data['b']*data['kron']*0.5\n",
    "c = data['PA']-90\n",
    "#kb = ((1-data['e'])*data['kron'])*0.2\n",
    "#ka = data['kron']*0.2"
   ]
  },
  {
   "cell_type": "code",
   "execution_count": 46,
   "metadata": {},
   "outputs": [],
   "source": [
    "region = []\n",
    "for i in range(len(data['ra'])):\n",
    "    region.append('ellipse('+str(round(data['ra'][i],7))+','+str(round(data['dec'][i],7))+','\n",
    "                  +str(round(b[i],7))+'\",'+str(round(a[i],7))+'\",'+str(round(c[i],7))+')')\n",
    "np.savetxt('SextractorRegs.txt',region, fmt='%s')"
   ]
  },
  {
   "cell_type": "markdown",
   "metadata": {},
   "source": [
    "### Once you save the region file above, you need to paste the following at the top of the document. \n",
    "\n",
    "....... # Region file format: DS9 version 4.1\n",
    "global color=green dashlist=8 3 width=1 font=\"helvetica 10 normal roman\" select=1 highlite=1 dash=0 fixed=0 edit=1 move=1 delete=1 include=1 source=1\n",
    "fk5\n",
    "\n",
    "### Don't include the periods at the beginning when you paste, I just needed to add text in front of the # to make it not bold in the markup text format"
   ]
  },
  {
   "cell_type": "code",
   "execution_count": null,
   "metadata": {},
   "outputs": [],
   "source": []
  }
 ],
 "metadata": {
  "kernelspec": {
   "display_name": "Python 3 (ipykernel)",
   "language": "python",
   "name": "python3"
  },
  "language_info": {
   "codemirror_mode": {
    "name": "ipython",
    "version": 3
   },
   "file_extension": ".py",
   "mimetype": "text/x-python",
   "name": "python",
   "nbconvert_exporter": "python",
   "pygments_lexer": "ipython3",
   "version": "3.12.1"
  }
 },
 "nbformat": 4,
 "nbformat_minor": 4
}
