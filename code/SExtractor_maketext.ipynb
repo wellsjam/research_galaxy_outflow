{
 "cells": [
  {
   "cell_type": "code",
   "execution_count": 1,
   "id": "20be9ffd-d5fe-4813-8b7a-9bc5d81a3299",
   "metadata": {},
   "outputs": [
    {
     "name": "stdout",
     "output_type": "stream",
     "text": [
      "Requirement already satisfied: matplotlib in /opt/homebrew/Cellar/jupyterlab/4.0.7_1/libexec/lib/python3.11/site-packages (3.8.0)\n",
      "Requirement already satisfied: pandas in /opt/homebrew/Cellar/jupyterlab/4.0.7_1/libexec/lib/python3.11/site-packages (2.1.1)\n",
      "Requirement already satisfied: contourpy>=1.0.1 in /opt/homebrew/Cellar/jupyterlab/4.0.7_1/libexec/lib/python3.11/site-packages (from matplotlib) (1.1.1)\n",
      "Requirement already satisfied: cycler>=0.10 in /opt/homebrew/Cellar/jupyterlab/4.0.7_1/libexec/lib/python3.11/site-packages (from matplotlib) (0.12.1)\n",
      "Requirement already satisfied: fonttools>=4.22.0 in /opt/homebrew/Cellar/jupyterlab/4.0.7_1/libexec/lib/python3.11/site-packages (from matplotlib) (4.43.1)\n",
      "Requirement already satisfied: kiwisolver>=1.0.1 in /opt/homebrew/Cellar/jupyterlab/4.0.7_1/libexec/lib/python3.11/site-packages (from matplotlib) (1.4.5)\n",
      "Requirement already satisfied: numpy<2,>=1.21 in /opt/homebrew/Cellar/jupyterlab/4.0.7_1/libexec/lib/python3.11/site-packages (from matplotlib) (1.26.1)\n",
      "Requirement already satisfied: packaging>=20.0 in /opt/homebrew/opt/python-packaging/lib/python3.11/site-packages (from matplotlib) (23.2)\n",
      "Requirement already satisfied: pillow>=6.2.0 in /opt/homebrew/Cellar/jupyterlab/4.0.7_1/libexec/lib/python3.11/site-packages (from matplotlib) (10.1.0)\n",
      "Requirement already satisfied: pyparsing>=2.3.1 in /opt/homebrew/Cellar/jupyterlab/4.0.7_1/libexec/lib/python3.11/site-packages (from matplotlib) (3.1.1)\n",
      "Requirement already satisfied: python-dateutil>=2.7 in /opt/homebrew/Cellar/jupyterlab/4.0.7_1/libexec/lib/python3.11/site-packages (from matplotlib) (2.8.2)\n",
      "Requirement already satisfied: pytz>=2020.1 in /opt/homebrew/Cellar/jupyterlab/4.0.7_1/libexec/lib/python3.11/site-packages (from pandas) (2023.3.post1)\n",
      "Requirement already satisfied: tzdata>=2022.1 in /opt/homebrew/Cellar/jupyterlab/4.0.7_1/libexec/lib/python3.11/site-packages (from pandas) (2023.3)\n",
      "Requirement already satisfied: six>=1.5 in /opt/homebrew/opt/six/lib/python3.11/site-packages (from python-dateutil>=2.7->matplotlib) (1.16.0)\n",
      "\n",
      "\u001b[1m[\u001b[0m\u001b[34;49mnotice\u001b[0m\u001b[1;39;49m]\u001b[0m\u001b[39;49m A new release of pip is available: \u001b[0m\u001b[31;49m23.2.1\u001b[0m\u001b[39;49m -> \u001b[0m\u001b[32;49m23.3.1\u001b[0m\n",
      "\u001b[1m[\u001b[0m\u001b[34;49mnotice\u001b[0m\u001b[1;39;49m]\u001b[0m\u001b[39;49m To update, run: \u001b[0m\u001b[32;49m/opt/homebrew/Cellar/jupyterlab/4.0.7_1/libexec/bin/python -m pip install --upgrade pip\u001b[0m\n",
      "Note: you may need to restart the kernel to use updated packages.\n"
     ]
    }
   ],
   "source": [
    "%pip install matplotlib pandas"
   ]
  },
  {
   "cell_type": "code",
   "execution_count": 2,
   "id": "aaa9c2aa-5283-47bb-9d88-073721d538ec",
   "metadata": {},
   "outputs": [],
   "source": [
    "import numpy as np\n",
    "import pandas as pd\n",
    "import matplotlib.pyplot as plt"
   ]
  },
  {
   "cell_type": "code",
   "execution_count": 3,
   "id": "db61da50-ec96-4967-a9b0-e9014ccd1fc1",
   "metadata": {},
   "outputs": [
    {
     "name": "stderr",
     "output_type": "stream",
     "text": [
      "/var/folders/p8/2qpn3ldx4s58gvbc0c41f6g80000gn/T/ipykernel_60677/3197257987.py:2: RuntimeWarning: invalid value encountered in log10\n",
      "  instmag = -2.5*np.log10(data['sum']/720)\n"
     ]
    }
   ],
   "source": [
    "data = np.genfromtxt('datasets/ngc3741data/test.cat', usecols=(3),dtype=float, names=('sum'))\n",
    "instmag = -2.5*np.log10(data['sum']/720)"
   ]
  },
  {
   "cell_type": "code",
   "execution_count": 11,
   "id": "aafebf75-fa32-4b3b-b9e8-86007f1ec8cf",
   "metadata": {},
   "outputs": [
    {
     "name": "stdout",
     "output_type": "stream",
     "text": [
      "[3.10613834e-17 4.20694998e-17 2.59982966e-17 2.56271063e-17\n",
      " 1.12970356e-17 1.66575328e-17 2.90571134e-17 3.68056002e-17\n",
      " 2.49479380e-17 4.81068242e-17 3.93416076e-17 1.57902600e-16\n",
      " 2.64972573e-15 2.79492130e-16 1.11825032e-17 7.14713631e-17\n",
      " 3.49856617e-17 3.43437664e-17 1.58330745e-17 6.35218701e-16\n",
      " 1.89329660e-17 6.71725509e-17 4.92179106e-16 1.92461777e-15\n",
      " 4.81628696e-15 3.74379088e-15 1.86205992e-15 2.90965056e-16\n",
      " 1.85317841e-17 2.99817277e-16 3.88916687e-16 7.03781542e-16\n",
      " 2.16895326e-17 2.11241664e-15 3.48129217e-17 2.87480758e-15\n",
      " 5.04679365e-16 2.96822553e-16 3.04265689e-16 1.00546204e-15\n",
      " 9.22971095e-16 4.49834777e-16 5.62083587e-14 1.98013343e-14\n",
      " 3.16699292e-14 6.68482562e-15 2.30192020e-17 2.25440542e-15\n",
      " 1.75657945e-17 2.28732032e-17 2.09565669e-16            nan\n",
      " 2.76928988e-17 2.50165701e-17 3.30470956e-16 5.37690132e-17\n",
      " 1.02530706e-15 4.59586531e-15 7.55903615e-15 1.18291168e-14\n",
      " 1.34387057e-15 1.68560904e-16 1.55420075e-15 2.20655985e-17\n",
      " 4.38079977e-17 3.22742294e-17 6.05987065e-16 3.37184527e-17\n",
      " 4.04101874e-15 5.78109814e-15 8.48428758e-16 1.81075411e-17\n",
      " 1.29846214e-15 5.80529191e-15 8.05874151e-15 2.26778387e-16\n",
      " 1.00470312e-14 1.63775274e-14 1.28219335e-14 1.94164907e-14\n",
      " 2.04797294e-14 2.03260554e-15 2.15113226e-16 2.22291528e-17\n",
      " 1.85446571e-15 7.73799790e-15 4.37577014e-18 1.89360805e-17\n",
      " 3.18820972e-17 8.83015429e-15 3.60317030e-15 1.27629884e-15\n",
      " 8.01283406e-17 3.35094063e-16 8.85771881e-16 4.81636071e-17\n",
      " 8.56364476e-17 2.29992553e-17 1.30431155e-17 1.80235588e-17\n",
      " 4.56409595e-16 7.42418479e-17 2.07455444e-15 2.39529018e-17\n",
      " 3.31302903e-17 1.81304161e-17 5.38840253e-17 4.00442737e-17\n",
      " 1.53609837e-17 2.48871958e-17 2.65766861e-17 2.65588229e-17\n",
      " 2.07951104e-17 2.44087259e-17 1.74772300e-17 2.14359748e-17\n",
      " 1.61458709e-17]\n"
     ]
    },
    {
     "data": {
      "text/plain": [
       "(0.0, 10.0)"
      ]
     },
     "execution_count": 11,
     "metadata": {},
     "output_type": "execute_result"
    },
    {
     "data": {
      "image/png": "[encoded data removed]",
      "text/plain": [
       "<Figure size 640x480 with 1 Axes>"
      ]
     },
     "metadata": {},
     "output_type": "display_data"
    }
   ],
   "source": [
    "#zp correction; first correct for filter function (assumes a gaussian filter)\n",
    "filt_fwhm = 80\n",
    "a0 = 21.565\n",
    "filter_func=0.5*np.sqrt(np.pi/np.log(2.)) * filt_fwhm\n",
    "zp=a0 - 2.5*np.log10(filter_func)\n",
    "aemag = instmag+ zp\n",
    "\n",
    "#  convert from magnitudes to fluxes\n",
    "fluxlog =-(aemag +21.48)/2.5\n",
    "flux=10**(fluxlog)\n",
    "print(flux)\n",
    "plt.hist(flux*10**15,bins=500)\n",
    "plt.ylim(0,10)"
   ]
  },
  {
   "cell_type": "code",
   "execution_count": null,
   "id": "76bfb86b-d85c-40ac-9044-77429fa556b9",
   "metadata": {},
   "outputs": [],
   "source": []
  }
 ],
 "metadata": {
  "kernelspec": {
   "display_name": "Python 3 (ipykernel)",
   "language": "python",
   "name": "python3"
  },
  "language_info": {
   "codemirror_mode": {
    "name": "ipython",
    "version": 3
   },
   "file_extension": ".py",
   "mimetype": "text/x-python",
   "name": "python",
   "nbconvert_exporter": "python",
   "pygments_lexer": "ipython3",
   "version": "3.11.6"
  }
 },
 "nbformat": 4,
 "nbformat_minor": 5
}
